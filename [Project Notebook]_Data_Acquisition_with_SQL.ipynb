{
  "nbformat": 4,
  "nbformat_minor": 0,
  "metadata": {
    "colab": {
      "name": "[Project] Data Acquisition with SQL",
      "provenance": [],
      "collapsed_sections": [],
      "toc_visible": true
    },
    "kernelspec": {
      "name": "python3",
      "display_name": "Python 3"
    },
    "language_info": {
      "name": "python"
    }
  },
  "cells": [
    {
      "cell_type": "markdown",
      "source": [
        "## Data Acquisition with SQL Project"
      ],
      "metadata": {
        "id": "Fy5QV89CKcma"
      }
    },
    {
      "cell_type": "markdown",
      "source": [
        "## Data Analysis Question"
      ],
      "metadata": {
        "id": "znKiPgoGKkBi"
      }
    },
    {
      "cell_type": "markdown",
      "source": [
        "#### The context"
      ],
      "metadata": {
        "id": "Bj36tPEjme6s"
      }
    },
    {
      "cell_type": "markdown",
      "source": [
        "Our task is to understand car crashes in the city of Chicago. As part of the descriptive analysis report, we will find answers to the following questions.\n",
        "\n",
        "> \n",
        "1. Display a list of 5 makes that had the highest number of crashes?\n",
        "2. Most personal vehicles involved in crashes were traveling towards which direction?\n",
        "3. How many passengers were involved in personal cars were in accidents?\n",
        "4. How many passengers were involved in accidents while traveling in personal Sport\n",
        "Utility vehicles?\n",
        "5. Compute the total number of Mercedez-Benz vehicles involved in accidents while\n",
        "being parked.\n",
        "6. Compute the total occupant count per vehicle count.\n",
        "7. Sort the number of passengers in descending order by travel direction taking into\n",
        "account travel direction. Return travel direction and no. of passengers.\n",
        "8. Select the top 5 vehicle models involved in the accident with no defect, order them\n",
        "by make, and show their maneuver.\n",
        "9. Which ridesharing vehicles in an accident had the most number of passengers?\n",
        "Return model, and the number of passengers.\n"
      ],
      "metadata": {
        "id": "DSOotdyXKxb_"
      }
    },
    {
      "cell_type": "markdown",
      "source": [
        "#### Solution steps"
      ],
      "metadata": {
        "id": "dk7UQsWgmPT2"
      }
    },
    {
      "cell_type": "markdown",
      "source": [
        "In order to answer the questions above, we will;\n",
        "1. Connect to the database\n",
        "2. Load libraries and the dataset\n",
        "3. Create database table and preview data\n",
        "4. Perform data analysis\n",
        "5. Summarise our findings"
      ],
      "metadata": {
        "id": "06_uQyuKmUEU"
      }
    },
    {
      "cell_type": "markdown",
      "source": [
        "## Connect to the database"
      ],
      "metadata": {
        "id": "Sf4Z-YXyPnnH"
      }
    },
    {
      "cell_type": "markdown",
      "source": [
        "Load the SQL extension"
      ],
      "metadata": {
        "id": "Jqj9hfr2P8-h"
      }
    },
    {
      "cell_type": "code",
      "source": [
        "%load_ext sql"
      ],
      "metadata": {
        "id": "CQ-LXppzPt5m"
      },
      "execution_count": 1,
      "outputs": []
    },
    {
      "cell_type": "markdown",
      "source": [
        "Connect to the in-memory SQLite database within Google Colab"
      ],
      "metadata": {
        "id": "l4UXJBAaP_Ae"
      }
    },
    {
      "cell_type": "code",
      "source": [
        "%sql sqlite://"
      ],
      "metadata": {
        "colab": {
          "base_uri": "https://localhost:8080/",
          "height": 35
        },
        "id": "B5iJqfbpQK7u",
        "outputId": "a4ae3ca4-c9f6-4a2d-8939-faad33d5052f"
      },
      "execution_count": 2,
      "outputs": [
        {
          "output_type": "execute_result",
          "data": {
            "text/plain": [
              "'Connected: @None'"
            ],
            "application/vnd.google.colaboratory.intrinsic+json": {
              "type": "string"
            }
          },
          "metadata": {},
          "execution_count": 2
        }
      ]
    },
    {
      "cell_type": "markdown",
      "source": [
        "## Load libraries and the dataset"
      ],
      "metadata": {
        "id": "Qr6VCMOJQrq0"
      }
    },
    {
      "cell_type": "markdown",
      "source": [
        "Load libraries"
      ],
      "metadata": {
        "id": "uDF5hI8HTFte"
      }
    },
    {
      "cell_type": "code",
      "source": [
        "import pandas as pd"
      ],
      "metadata": {
        "id": "Lwu3l4HITI1f"
      },
      "execution_count": 3,
      "outputs": []
    },
    {
      "cell_type": "markdown",
      "source": [
        "Load data from CSV"
      ],
      "metadata": {
        "id": "Srzp7l9PTMxx"
      }
    },
    {
      "cell_type": "code",
      "source": [
        "traffic_accidents = pd.read_csv('/content/traffic_accidents.csv')"
      ],
      "metadata": {
        "id": "jdMaupGnS4ZR"
      },
      "execution_count": 4,
      "outputs": []
    },
    {
      "cell_type": "markdown",
      "source": [
        "## Create database table and preview data"
      ],
      "metadata": {
        "id": "6oWa2PbwnHNg"
      }
    },
    {
      "cell_type": "markdown",
      "source": [
        "Create database table using the loaded CSV data"
      ],
      "metadata": {
        "id": "h1xXB0jjTVRY"
      }
    },
    {
      "cell_type": "code",
      "source": [
        "%sql DROP TABLE if EXISTS traffic_accidents;\n",
        "\n",
        "%sql PERSIST traffic_accidents"
      ],
      "metadata": {
        "colab": {
          "base_uri": "https://localhost:8080/",
          "height": 87
        },
        "id": "DVs2Ah_oTY5f",
        "outputId": "f230a943-811b-4deb-cc83-04a680a6f0d4"
      },
      "execution_count": 5,
      "outputs": [
        {
          "output_type": "stream",
          "name": "stdout",
          "text": [
            " * sqlite://\n",
            "Done.\n",
            " * sqlite://\n"
          ]
        },
        {
          "output_type": "execute_result",
          "data": {
            "text/plain": [
              "'Persisted traffic_accidents'"
            ],
            "application/vnd.google.colaboratory.intrinsic+json": {
              "type": "string"
            }
          },
          "metadata": {},
          "execution_count": 5
        }
      ]
    },
    {
      "cell_type": "markdown",
      "source": [
        "Preview the data"
      ],
      "metadata": {
        "id": "sCvFCYzKTd9A"
      }
    },
    {
      "cell_type": "code",
      "source": [
        "%sql SELECT * FROM traffic_accidents LIMIT 10"
      ],
      "metadata": {
        "colab": {
          "base_uri": "https://localhost:8080/",
          "height": 569
        },
        "id": "eg1Vb4uiTgPP",
        "outputId": "0ca47601-39c1-42f9-8210-d69bd5edf480"
      },
      "execution_count": 6,
      "outputs": [
        {
          "output_type": "stream",
          "name": "stdout",
          "text": [
            " * sqlite://\n",
            "Done.\n"
          ]
        },
        {
          "output_type": "execute_result",
          "data": {
            "text/plain": [
              "[(0, 54, '0ecbc94e9e6a01f8d1fadca458d84be6d51ef9d42b1f4c2f4367a2388fef03451e8bcd7a797f7dfb84f03cf362f81e56429ac15787893f6350e7166d54ad9cff', 'HY372069', '08/06/2015 06:00:00 PM', 2, 'PARKED', None, 53.0, None, 'LINCOLN-CONTINENTAL', 'MKX', 'IL', 2008.0, 'NONE', 'PASSENGER', 'NOT IN USE', 'N', 'PARKED', None, None, 0.0, None, None, None, None, None, None, 'Y', 'Y', None, None, None, None, None, None, None, None, None, 'REAR-RIGHT', None, None, None, None, None, None, None, None, None, None, None, None, None, None, None, None, None, None, None, None, None, None, None, None, None, None, None, None, None, None, None, None, None),\n",
              " (1, 145, '7bd0f17b2a365cb53396bf29ac78123c1c258465aa0f1773c792a03d1b36f98e92f60a8ebb87ebaee5f957a3e9813b9aa5ac4f6430498bc0e3a64167765e7165', 'HY376728', '08/10/2015 02:15:00 PM', 2, 'DRIVER', None, 141.0, None, 'MERCEDES-BENZ', 'C250', 'IL', 2013.0, 'NONE', 'PASSENGER', 'PERSONAL', 'S', 'STRAIGHT AHEAD', None, None, 1.0, None, None, None, None, None, None, None, None, 'Y', None, None, None, None, None, None, None, None, 'REAR', None, None, None, None, None, None, None, None, None, None, None, None, None, None, None, None, None, None, None, None, None, None, None, None, None, None, None, None, None, None, None, None, None),\n",
              " (2, 257, '07155af1c0a71c36e32ab53f86b525d929154b3d7290ae0830b7baa834c7c6f2b22e14a6656406ccad8685bf5f9ac54b058dce68d7122bd468729a941f1c3a97', 'HY383388', '08/15/2015 12:10:00 PM', 1, 'DRIVER', None, 247.0, None, 'MERCEDES-BENZ', 'GLK220', 'IL', 2015.0, 'NONE', 'PASSENGER', 'OTHER', 'E', 'STRAIGHT AHEAD', None, None, 1.0, None, None, None, 'N', 'Y', None, None, None, None, None, None, None, None, None, None, None, None, 'FRONT', None, None, None, None, None, None, None, None, None, None, None, None, None, None, None, None, None, None, None, None, None, None, None, None, None, None, None, None, None, None, None, None, None),\n",
              " (3, 283, '6a54948070f52dcfc8682fc14a374871b76561244c2383fcb89004ebe418262f56c7249c1dfe00f1206dc7d8017d39da4ca23015e6739c668e12cddd302038ee', 'HY385182', '08/16/2015 07:00:00 PM', 2, 'DRIVER', 5.0, 270.0, None, 'TOYOTA MOTOR COMPANY, LTD.', 'CAMRY', 'IL', 2014.0, 'NONE', 'PASSENGER', 'PERSONAL', 'W', 'SLOW/STOP - RIGHT TURN', None, None, 6.0, None, None, None, None, 'Y', 'Y', None, None, None, None, None, 'Y', None, None, None, None, None, 'FRONT-LEFT', None, None, None, None, None, None, None, None, None, None, None, None, None, None, None, None, None, None, None, None, None, None, None, None, None, None, None, None, None, None, None, None, None),\n",
              " (4, 327, '0ff295104810bc4e8d6c15e4fc92a5beb3768c792bb995b80bf2fe3904e6d30390fce363ae8b4c99a0c48cca42697d43a385b8b654cfea77d59a7c11342fc664', 'HY386474', '08/16/2015 01:45:00 PM', 2, 'PARKED', None, 312.0, None, 'LEXUS', 'RX350', 'IL', 2015.0, 'NONE', 'SPORT UTILITY VEHICLE (SUV)', 'OTHER', 'N', 'PARKED', None, None, 0.0, None, None, None, None, None, None, None, 'N', 'Y', 'N', None, None, None, None, None, None, None, 'REAR', None, None, None, None, None, None, None, None, None, None, None, None, None, None, None, None, None, None, None, None, None, None, None, None, None, None, None, None, None, None, None, None, None),\n",
              " (5, 456, '497ee0da1507d49c1d13b5544c6d29accb42135494cd93925f0557f0e8f9513c9ca0de862ae12c9aa011106a8b2b4b548b29fefcf1773a571ea5f00262068a2c', 'HY390815', '08/20/2015 07:00:00 PM', 2, 'DRIVER', None, 435.0, None, 'FORD', 'FORD-TRUCK,VAN,SUV, ETC', 'IL', 2010.0, 'NONE', 'VAN/MINI-VAN', 'COMMERCIAL - MULTI-UNIT', 'W', 'STRAIGHT AHEAD', None, None, 1.0, None, None, None, None, None, None, None, None, 'Y', None, None, None, None, None, None, None, None, 'REAR', None, None, None, None, None, None, None, None, None, None, None, None, None, None, None, None, None, None, None, None, None, None, None, None, None, None, None, None, None, None, None, None, None),\n",
              " (6, 524, '7aa347e0ea02f41d7b3c50083a8b359145ace7f7dea28a535b7985d80c9a96bf6c17cb366cf08b9c17795064fea1505de042d5027a837fed5c7aef71f5432688', 'HY393132', '08/22/2015 02:45:00 PM', 2, 'DRIVER', None, 499.0, None, 'HONDA', 'ACCORD', 'IL', 2008.0, 'NONE', 'PASSENGER', 'PERSONAL', 'S', 'STRAIGHT AHEAD', None, None, 1.0, None, None, None, None, None, None, None, None, None, 'Y', None, None, None, None, None, None, None, 'REAR-LEFT', None, None, None, None, None, None, None, None, None, None, None, None, None, None, None, None, None, None, None, None, None, None, None, None, None, None, None, None, None, None, None, None, None),\n",
              " (7, 691, 'a10ffa1d97f790266506f3294469ac3e8eee787eb7f9b5817e1569850555179ffb7de36147a7370f3992e6c3b495fae830ea11671380c31e3cf5418631d656cf', 'HY398246', '08/26/2015 05:00:00 AM', 2, 'PARKED', None, 660.0, None, 'DODGE', 'CHARGER', 'IL', 2012.0, 'NONE', 'PASSENGER', 'NOT IN USE', 'W', 'PARKED', None, None, 0.0, None, None, None, None, 'Y', None, None, None, None, None, None, None, None, None, None, None, None, 'FRONT', None, None, None, None, None, None, None, None, None, None, None, None, None, None, None, None, None, None, None, None, None, None, None, None, None, None, None, None, None, None, None, None, None),\n",
              " (8, 719, '222125199d9439a5a52603f49b97cf60079277ee4d2ff458aeaea1ec21054c7a0289c514a176b62370c89d3307251632e0d587246c30a3771c4cf4efa91bae35', 'HY399668', '08/27/2015 03:10:00 PM', 2, 'DRIVER', None, 686.0, None, 'NISSAN', 'NISSAN ALTIMA', 'IL', 2013.0, 'UNKNOWN', 'PASSENGER', 'PERSONAL', 'W', 'SLOW/STOP IN TRAFFIC', None, None, 1.0, None, None, None, None, None, None, None, None, None, None, None, 'Y', None, None, None, None, None, 'FRONT-RIGHT', None, None, None, None, None, None, None, None, None, None, None, None, None, None, None, None, None, None, None, None, None, None, None, None, None, None, None, None, None, None, None, None, None),\n",
              " (9, 1203, '11d5a650500c98b7e613637d4f9a04c74776d4658431bc9380b435b8c4235adca6b73bf174caf79a3237f6a9a981d1d3ffe4682429ce81844a2ec5e8c16323db', 'HY410761', '09/04/2015 08:27:00 PM', 2, 'DRIVER', None, 1147.0, None, 'JEEP', 'UNKNOWN', 'IL', 2014.0, 'NONE', 'SPORT UTILITY VEHICLE (SUV)', 'PERSONAL', 'W', 'STRAIGHT AHEAD', None, None, 1.0, None, None, None, None, None, None, None, None, 'Y', 'Y', None, None, None, None, 'Y', None, None, 'TOTAL (ALL AREAS)', None, None, None, None, None, None, None, None, None, None, None, None, None, None, None, None, None, None, None, None, None, None, None, None, None, None, None, None, None, None, None, None, None)]"
            ],
            "text/html": [
              "<table>\n",
              "    <thead>\n",
              "        <tr>\n",
              "            <th>index</th>\n",
              "            <th>CRASH_UNIT_ID</th>\n",
              "            <th>CRASH_RECORD_ID</th>\n",
              "            <th>RD_NO</th>\n",
              "            <th>CRASH_DATE</th>\n",
              "            <th>UNIT_NO</th>\n",
              "            <th>UNIT_TYPE</th>\n",
              "            <th>NUM_PASSENGERS</th>\n",
              "            <th>VEHICLE_ID</th>\n",
              "            <th>CMRC_VEH_I</th>\n",
              "            <th>MAKE</th>\n",
              "            <th>MODEL</th>\n",
              "            <th>LIC_PLATE_STATE</th>\n",
              "            <th>VEHICLE_YEAR</th>\n",
              "            <th>VEHICLE_DEFECT</th>\n",
              "            <th>VEHICLE_TYPE</th>\n",
              "            <th>VEHICLE_USE</th>\n",
              "            <th>TRAVEL_DIRECTION</th>\n",
              "            <th>MANEUVER</th>\n",
              "            <th>TOWED_I</th>\n",
              "            <th>FIRE_I</th>\n",
              "            <th>OCCUPANT_CNT</th>\n",
              "            <th>EXCEED_SPEED_LIMIT_I</th>\n",
              "            <th>TOWED_BY</th>\n",
              "            <th>TOWED_TO</th>\n",
              "            <th>AREA_00_I</th>\n",
              "            <th>AREA_01_I</th>\n",
              "            <th>AREA_02_I</th>\n",
              "            <th>AREA_03_I</th>\n",
              "            <th>AREA_04_I</th>\n",
              "            <th>AREA_05_I</th>\n",
              "            <th>AREA_06_I</th>\n",
              "            <th>AREA_07_I</th>\n",
              "            <th>AREA_08_I</th>\n",
              "            <th>AREA_09_I</th>\n",
              "            <th>AREA_10_I</th>\n",
              "            <th>AREA_11_I</th>\n",
              "            <th>AREA_12_I</th>\n",
              "            <th>AREA_99_I</th>\n",
              "            <th>FIRST_CONTACT_POINT</th>\n",
              "            <th>CMV_ID</th>\n",
              "            <th>USDOT_NO</th>\n",
              "            <th>CCMC_NO</th>\n",
              "            <th>ILCC_NO</th>\n",
              "            <th>COMMERCIAL_SRC</th>\n",
              "            <th>GVWR</th>\n",
              "            <th>CARRIER_NAME</th>\n",
              "            <th>CARRIER_STATE</th>\n",
              "            <th>CARRIER_CITY</th>\n",
              "            <th>HAZMAT_PLACARDS_I</th>\n",
              "            <th>HAZMAT_NAME</th>\n",
              "            <th>UN_NO</th>\n",
              "            <th>HAZMAT_PRESENT_I</th>\n",
              "            <th>HAZMAT_REPORT_I</th>\n",
              "            <th>HAZMAT_REPORT_NO</th>\n",
              "            <th>MCS_REPORT_I</th>\n",
              "            <th>MCS_REPORT_NO</th>\n",
              "            <th>HAZMAT_VIO_CAUSE_CRASH_I</th>\n",
              "            <th>MCS_VIO_CAUSE_CRASH_I</th>\n",
              "            <th>IDOT_PERMIT_NO</th>\n",
              "            <th>WIDE_LOAD_I</th>\n",
              "            <th>TRAILER1_WIDTH</th>\n",
              "            <th>TRAILER2_WIDTH</th>\n",
              "            <th>TRAILER1_LENGTH</th>\n",
              "            <th>TRAILER2_LENGTH</th>\n",
              "            <th>TOTAL_VEHICLE_LENGTH</th>\n",
              "            <th>AXLE_CNT</th>\n",
              "            <th>VEHICLE_CONFIG</th>\n",
              "            <th>CARGO_BODY_TYPE</th>\n",
              "            <th>LOAD_TYPE</th>\n",
              "            <th>HAZMAT_OUT_OF_SERVICE_I</th>\n",
              "            <th>MCS_OUT_OF_SERVICE_I</th>\n",
              "            <th>HAZMAT_CLASS</th>\n",
              "        </tr>\n",
              "    </thead>\n",
              "    <tbody>\n",
              "        <tr>\n",
              "            <td>0</td>\n",
              "            <td>54</td>\n",
              "            <td>0ecbc94e9e6a01f8d1fadca458d84be6d51ef9d42b1f4c2f4367a2388fef03451e8bcd7a797f7dfb84f03cf362f81e56429ac15787893f6350e7166d54ad9cff</td>\n",
              "            <td>HY372069</td>\n",
              "            <td>08/06/2015 06:00:00 PM</td>\n",
              "            <td>2</td>\n",
              "            <td>PARKED</td>\n",
              "            <td>None</td>\n",
              "            <td>53.0</td>\n",
              "            <td>None</td>\n",
              "            <td>LINCOLN-CONTINENTAL</td>\n",
              "            <td>MKX</td>\n",
              "            <td>IL</td>\n",
              "            <td>2008.0</td>\n",
              "            <td>NONE</td>\n",
              "            <td>PASSENGER</td>\n",
              "            <td>NOT IN USE</td>\n",
              "            <td>N</td>\n",
              "            <td>PARKED</td>\n",
              "            <td>None</td>\n",
              "            <td>None</td>\n",
              "            <td>0.0</td>\n",
              "            <td>None</td>\n",
              "            <td>None</td>\n",
              "            <td>None</td>\n",
              "            <td>None</td>\n",
              "            <td>None</td>\n",
              "            <td>None</td>\n",
              "            <td>Y</td>\n",
              "            <td>Y</td>\n",
              "            <td>None</td>\n",
              "            <td>None</td>\n",
              "            <td>None</td>\n",
              "            <td>None</td>\n",
              "            <td>None</td>\n",
              "            <td>None</td>\n",
              "            <td>None</td>\n",
              "            <td>None</td>\n",
              "            <td>None</td>\n",
              "            <td>REAR-RIGHT</td>\n",
              "            <td>None</td>\n",
              "            <td>None</td>\n",
              "            <td>None</td>\n",
              "            <td>None</td>\n",
              "            <td>None</td>\n",
              "            <td>None</td>\n",
              "            <td>None</td>\n",
              "            <td>None</td>\n",
              "            <td>None</td>\n",
              "            <td>None</td>\n",
              "            <td>None</td>\n",
              "            <td>None</td>\n",
              "            <td>None</td>\n",
              "            <td>None</td>\n",
              "            <td>None</td>\n",
              "            <td>None</td>\n",
              "            <td>None</td>\n",
              "            <td>None</td>\n",
              "            <td>None</td>\n",
              "            <td>None</td>\n",
              "            <td>None</td>\n",
              "            <td>None</td>\n",
              "            <td>None</td>\n",
              "            <td>None</td>\n",
              "            <td>None</td>\n",
              "            <td>None</td>\n",
              "            <td>None</td>\n",
              "            <td>None</td>\n",
              "            <td>None</td>\n",
              "            <td>None</td>\n",
              "            <td>None</td>\n",
              "            <td>None</td>\n",
              "            <td>None</td>\n",
              "        </tr>\n",
              "        <tr>\n",
              "            <td>1</td>\n",
              "            <td>145</td>\n",
              "            <td>7bd0f17b2a365cb53396bf29ac78123c1c258465aa0f1773c792a03d1b36f98e92f60a8ebb87ebaee5f957a3e9813b9aa5ac4f6430498bc0e3a64167765e7165</td>\n",
              "            <td>HY376728</td>\n",
              "            <td>08/10/2015 02:15:00 PM</td>\n",
              "            <td>2</td>\n",
              "            <td>DRIVER</td>\n",
              "            <td>None</td>\n",
              "            <td>141.0</td>\n",
              "            <td>None</td>\n",
              "            <td>MERCEDES-BENZ</td>\n",
              "            <td>C250</td>\n",
              "            <td>IL</td>\n",
              "            <td>2013.0</td>\n",
              "            <td>NONE</td>\n",
              "            <td>PASSENGER</td>\n",
              "            <td>PERSONAL</td>\n",
              "            <td>S</td>\n",
              "            <td>STRAIGHT AHEAD</td>\n",
              "            <td>None</td>\n",
              "            <td>None</td>\n",
              "            <td>1.0</td>\n",
              "            <td>None</td>\n",
              "            <td>None</td>\n",
              "            <td>None</td>\n",
              "            <td>None</td>\n",
              "            <td>None</td>\n",
              "            <td>None</td>\n",
              "            <td>None</td>\n",
              "            <td>None</td>\n",
              "            <td>Y</td>\n",
              "            <td>None</td>\n",
              "            <td>None</td>\n",
              "            <td>None</td>\n",
              "            <td>None</td>\n",
              "            <td>None</td>\n",
              "            <td>None</td>\n",
              "            <td>None</td>\n",
              "            <td>None</td>\n",
              "            <td>REAR</td>\n",
              "            <td>None</td>\n",
              "            <td>None</td>\n",
              "            <td>None</td>\n",
              "            <td>None</td>\n",
              "            <td>None</td>\n",
              "            <td>None</td>\n",
              "            <td>None</td>\n",
              "            <td>None</td>\n",
              "            <td>None</td>\n",
              "            <td>None</td>\n",
              "            <td>None</td>\n",
              "            <td>None</td>\n",
              "            <td>None</td>\n",
              "            <td>None</td>\n",
              "            <td>None</td>\n",
              "            <td>None</td>\n",
              "            <td>None</td>\n",
              "            <td>None</td>\n",
              "            <td>None</td>\n",
              "            <td>None</td>\n",
              "            <td>None</td>\n",
              "            <td>None</td>\n",
              "            <td>None</td>\n",
              "            <td>None</td>\n",
              "            <td>None</td>\n",
              "            <td>None</td>\n",
              "            <td>None</td>\n",
              "            <td>None</td>\n",
              "            <td>None</td>\n",
              "            <td>None</td>\n",
              "            <td>None</td>\n",
              "            <td>None</td>\n",
              "            <td>None</td>\n",
              "        </tr>\n",
              "        <tr>\n",
              "            <td>2</td>\n",
              "            <td>257</td>\n",
              "            <td>07155af1c0a71c36e32ab53f86b525d929154b3d7290ae0830b7baa834c7c6f2b22e14a6656406ccad8685bf5f9ac54b058dce68d7122bd468729a941f1c3a97</td>\n",
              "            <td>HY383388</td>\n",
              "            <td>08/15/2015 12:10:00 PM</td>\n",
              "            <td>1</td>\n",
              "            <td>DRIVER</td>\n",
              "            <td>None</td>\n",
              "            <td>247.0</td>\n",
              "            <td>None</td>\n",
              "            <td>MERCEDES-BENZ</td>\n",
              "            <td>GLK220</td>\n",
              "            <td>IL</td>\n",
              "            <td>2015.0</td>\n",
              "            <td>NONE</td>\n",
              "            <td>PASSENGER</td>\n",
              "            <td>OTHER</td>\n",
              "            <td>E</td>\n",
              "            <td>STRAIGHT AHEAD</td>\n",
              "            <td>None</td>\n",
              "            <td>None</td>\n",
              "            <td>1.0</td>\n",
              "            <td>None</td>\n",
              "            <td>None</td>\n",
              "            <td>None</td>\n",
              "            <td>N</td>\n",
              "            <td>Y</td>\n",
              "            <td>None</td>\n",
              "            <td>None</td>\n",
              "            <td>None</td>\n",
              "            <td>None</td>\n",
              "            <td>None</td>\n",
              "            <td>None</td>\n",
              "            <td>None</td>\n",
              "            <td>None</td>\n",
              "            <td>None</td>\n",
              "            <td>None</td>\n",
              "            <td>None</td>\n",
              "            <td>None</td>\n",
              "            <td>FRONT</td>\n",
              "            <td>None</td>\n",
              "            <td>None</td>\n",
              "            <td>None</td>\n",
              "            <td>None</td>\n",
              "            <td>None</td>\n",
              "            <td>None</td>\n",
              "            <td>None</td>\n",
              "            <td>None</td>\n",
              "            <td>None</td>\n",
              "            <td>None</td>\n",
              "            <td>None</td>\n",
              "            <td>None</td>\n",
              "            <td>None</td>\n",
              "            <td>None</td>\n",
              "            <td>None</td>\n",
              "            <td>None</td>\n",
              "            <td>None</td>\n",
              "            <td>None</td>\n",
              "            <td>None</td>\n",
              "            <td>None</td>\n",
              "            <td>None</td>\n",
              "            <td>None</td>\n",
              "            <td>None</td>\n",
              "            <td>None</td>\n",
              "            <td>None</td>\n",
              "            <td>None</td>\n",
              "            <td>None</td>\n",
              "            <td>None</td>\n",
              "            <td>None</td>\n",
              "            <td>None</td>\n",
              "            <td>None</td>\n",
              "            <td>None</td>\n",
              "            <td>None</td>\n",
              "        </tr>\n",
              "        <tr>\n",
              "            <td>3</td>\n",
              "            <td>283</td>\n",
              "            <td>6a54948070f52dcfc8682fc14a374871b76561244c2383fcb89004ebe418262f56c7249c1dfe00f1206dc7d8017d39da4ca23015e6739c668e12cddd302038ee</td>\n",
              "            <td>HY385182</td>\n",
              "            <td>08/16/2015 07:00:00 PM</td>\n",
              "            <td>2</td>\n",
              "            <td>DRIVER</td>\n",
              "            <td>5.0</td>\n",
              "            <td>270.0</td>\n",
              "            <td>None</td>\n",
              "            <td>TOYOTA MOTOR COMPANY, LTD.</td>\n",
              "            <td>CAMRY</td>\n",
              "            <td>IL</td>\n",
              "            <td>2014.0</td>\n",
              "            <td>NONE</td>\n",
              "            <td>PASSENGER</td>\n",
              "            <td>PERSONAL</td>\n",
              "            <td>W</td>\n",
              "            <td>SLOW/STOP - RIGHT TURN</td>\n",
              "            <td>None</td>\n",
              "            <td>None</td>\n",
              "            <td>6.0</td>\n",
              "            <td>None</td>\n",
              "            <td>None</td>\n",
              "            <td>None</td>\n",
              "            <td>None</td>\n",
              "            <td>Y</td>\n",
              "            <td>Y</td>\n",
              "            <td>None</td>\n",
              "            <td>None</td>\n",
              "            <td>None</td>\n",
              "            <td>None</td>\n",
              "            <td>None</td>\n",
              "            <td>Y</td>\n",
              "            <td>None</td>\n",
              "            <td>None</td>\n",
              "            <td>None</td>\n",
              "            <td>None</td>\n",
              "            <td>None</td>\n",
              "            <td>FRONT-LEFT</td>\n",
              "            <td>None</td>\n",
              "            <td>None</td>\n",
              "            <td>None</td>\n",
              "            <td>None</td>\n",
              "            <td>None</td>\n",
              "            <td>None</td>\n",
              "            <td>None</td>\n",
              "            <td>None</td>\n",
              "            <td>None</td>\n",
              "            <td>None</td>\n",
              "            <td>None</td>\n",
              "            <td>None</td>\n",
              "            <td>None</td>\n",
              "            <td>None</td>\n",
              "            <td>None</td>\n",
              "            <td>None</td>\n",
              "            <td>None</td>\n",
              "            <td>None</td>\n",
              "            <td>None</td>\n",
              "            <td>None</td>\n",
              "            <td>None</td>\n",
              "            <td>None</td>\n",
              "            <td>None</td>\n",
              "            <td>None</td>\n",
              "            <td>None</td>\n",
              "            <td>None</td>\n",
              "            <td>None</td>\n",
              "            <td>None</td>\n",
              "            <td>None</td>\n",
              "            <td>None</td>\n",
              "            <td>None</td>\n",
              "            <td>None</td>\n",
              "            <td>None</td>\n",
              "        </tr>\n",
              "        <tr>\n",
              "            <td>4</td>\n",
              "            <td>327</td>\n",
              "            <td>0ff295104810bc4e8d6c15e4fc92a5beb3768c792bb995b80bf2fe3904e6d30390fce363ae8b4c99a0c48cca42697d43a385b8b654cfea77d59a7c11342fc664</td>\n",
              "            <td>HY386474</td>\n",
              "            <td>08/16/2015 01:45:00 PM</td>\n",
              "            <td>2</td>\n",
              "            <td>PARKED</td>\n",
              "            <td>None</td>\n",
              "            <td>312.0</td>\n",
              "            <td>None</td>\n",
              "            <td>LEXUS</td>\n",
              "            <td>RX350</td>\n",
              "            <td>IL</td>\n",
              "            <td>2015.0</td>\n",
              "            <td>NONE</td>\n",
              "            <td>SPORT UTILITY VEHICLE (SUV)</td>\n",
              "            <td>OTHER</td>\n",
              "            <td>N</td>\n",
              "            <td>PARKED</td>\n",
              "            <td>None</td>\n",
              "            <td>None</td>\n",
              "            <td>0.0</td>\n",
              "            <td>None</td>\n",
              "            <td>None</td>\n",
              "            <td>None</td>\n",
              "            <td>None</td>\n",
              "            <td>None</td>\n",
              "            <td>None</td>\n",
              "            <td>None</td>\n",
              "            <td>N</td>\n",
              "            <td>Y</td>\n",
              "            <td>N</td>\n",
              "            <td>None</td>\n",
              "            <td>None</td>\n",
              "            <td>None</td>\n",
              "            <td>None</td>\n",
              "            <td>None</td>\n",
              "            <td>None</td>\n",
              "            <td>None</td>\n",
              "            <td>REAR</td>\n",
              "            <td>None</td>\n",
              "            <td>None</td>\n",
              "            <td>None</td>\n",
              "            <td>None</td>\n",
              "            <td>None</td>\n",
              "            <td>None</td>\n",
              "            <td>None</td>\n",
              "            <td>None</td>\n",
              "            <td>None</td>\n",
              "            <td>None</td>\n",
              "            <td>None</td>\n",
              "            <td>None</td>\n",
              "            <td>None</td>\n",
              "            <td>None</td>\n",
              "            <td>None</td>\n",
              "            <td>None</td>\n",
              "            <td>None</td>\n",
              "            <td>None</td>\n",
              "            <td>None</td>\n",
              "            <td>None</td>\n",
              "            <td>None</td>\n",
              "            <td>None</td>\n",
              "            <td>None</td>\n",
              "            <td>None</td>\n",
              "            <td>None</td>\n",
              "            <td>None</td>\n",
              "            <td>None</td>\n",
              "            <td>None</td>\n",
              "            <td>None</td>\n",
              "            <td>None</td>\n",
              "            <td>None</td>\n",
              "            <td>None</td>\n",
              "            <td>None</td>\n",
              "        </tr>\n",
              "        <tr>\n",
              "            <td>5</td>\n",
              "            <td>456</td>\n",
              "            <td>497ee0da1507d49c1d13b5544c6d29accb42135494cd93925f0557f0e8f9513c9ca0de862ae12c9aa011106a8b2b4b548b29fefcf1773a571ea5f00262068a2c</td>\n",
              "            <td>HY390815</td>\n",
              "            <td>08/20/2015 07:00:00 PM</td>\n",
              "            <td>2</td>\n",
              "            <td>DRIVER</td>\n",
              "            <td>None</td>\n",
              "            <td>435.0</td>\n",
              "            <td>None</td>\n",
              "            <td>FORD</td>\n",
              "            <td>FORD-TRUCK,VAN,SUV, ETC</td>\n",
              "            <td>IL</td>\n",
              "            <td>2010.0</td>\n",
              "            <td>NONE</td>\n",
              "            <td>VAN/MINI-VAN</td>\n",
              "            <td>COMMERCIAL - MULTI-UNIT</td>\n",
              "            <td>W</td>\n",
              "            <td>STRAIGHT AHEAD</td>\n",
              "            <td>None</td>\n",
              "            <td>None</td>\n",
              "            <td>1.0</td>\n",
              "            <td>None</td>\n",
              "            <td>None</td>\n",
              "            <td>None</td>\n",
              "            <td>None</td>\n",
              "            <td>None</td>\n",
              "            <td>None</td>\n",
              "            <td>None</td>\n",
              "            <td>None</td>\n",
              "            <td>Y</td>\n",
              "            <td>None</td>\n",
              "            <td>None</td>\n",
              "            <td>None</td>\n",
              "            <td>None</td>\n",
              "            <td>None</td>\n",
              "            <td>None</td>\n",
              "            <td>None</td>\n",
              "            <td>None</td>\n",
              "            <td>REAR</td>\n",
              "            <td>None</td>\n",
              "            <td>None</td>\n",
              "            <td>None</td>\n",
              "            <td>None</td>\n",
              "            <td>None</td>\n",
              "            <td>None</td>\n",
              "            <td>None</td>\n",
              "            <td>None</td>\n",
              "            <td>None</td>\n",
              "            <td>None</td>\n",
              "            <td>None</td>\n",
              "            <td>None</td>\n",
              "            <td>None</td>\n",
              "            <td>None</td>\n",
              "            <td>None</td>\n",
              "            <td>None</td>\n",
              "            <td>None</td>\n",
              "            <td>None</td>\n",
              "            <td>None</td>\n",
              "            <td>None</td>\n",
              "            <td>None</td>\n",
              "            <td>None</td>\n",
              "            <td>None</td>\n",
              "            <td>None</td>\n",
              "            <td>None</td>\n",
              "            <td>None</td>\n",
              "            <td>None</td>\n",
              "            <td>None</td>\n",
              "            <td>None</td>\n",
              "            <td>None</td>\n",
              "            <td>None</td>\n",
              "            <td>None</td>\n",
              "            <td>None</td>\n",
              "        </tr>\n",
              "        <tr>\n",
              "            <td>6</td>\n",
              "            <td>524</td>\n",
              "            <td>7aa347e0ea02f41d7b3c50083a8b359145ace7f7dea28a535b7985d80c9a96bf6c17cb366cf08b9c17795064fea1505de042d5027a837fed5c7aef71f5432688</td>\n",
              "            <td>HY393132</td>\n",
              "            <td>08/22/2015 02:45:00 PM</td>\n",
              "            <td>2</td>\n",
              "            <td>DRIVER</td>\n",
              "            <td>None</td>\n",
              "            <td>499.0</td>\n",
              "            <td>None</td>\n",
              "            <td>HONDA</td>\n",
              "            <td>ACCORD</td>\n",
              "            <td>IL</td>\n",
              "            <td>2008.0</td>\n",
              "            <td>NONE</td>\n",
              "            <td>PASSENGER</td>\n",
              "            <td>PERSONAL</td>\n",
              "            <td>S</td>\n",
              "            <td>STRAIGHT AHEAD</td>\n",
              "            <td>None</td>\n",
              "            <td>None</td>\n",
              "            <td>1.0</td>\n",
              "            <td>None</td>\n",
              "            <td>None</td>\n",
              "            <td>None</td>\n",
              "            <td>None</td>\n",
              "            <td>None</td>\n",
              "            <td>None</td>\n",
              "            <td>None</td>\n",
              "            <td>None</td>\n",
              "            <td>None</td>\n",
              "            <td>Y</td>\n",
              "            <td>None</td>\n",
              "            <td>None</td>\n",
              "            <td>None</td>\n",
              "            <td>None</td>\n",
              "            <td>None</td>\n",
              "            <td>None</td>\n",
              "            <td>None</td>\n",
              "            <td>REAR-LEFT</td>\n",
              "            <td>None</td>\n",
              "            <td>None</td>\n",
              "            <td>None</td>\n",
              "            <td>None</td>\n",
              "            <td>None</td>\n",
              "            <td>None</td>\n",
              "            <td>None</td>\n",
              "            <td>None</td>\n",
              "            <td>None</td>\n",
              "            <td>None</td>\n",
              "            <td>None</td>\n",
              "            <td>None</td>\n",
              "            <td>None</td>\n",
              "            <td>None</td>\n",
              "            <td>None</td>\n",
              "            <td>None</td>\n",
              "            <td>None</td>\n",
              "            <td>None</td>\n",
              "            <td>None</td>\n",
              "            <td>None</td>\n",
              "            <td>None</td>\n",
              "            <td>None</td>\n",
              "            <td>None</td>\n",
              "            <td>None</td>\n",
              "            <td>None</td>\n",
              "            <td>None</td>\n",
              "            <td>None</td>\n",
              "            <td>None</td>\n",
              "            <td>None</td>\n",
              "            <td>None</td>\n",
              "            <td>None</td>\n",
              "            <td>None</td>\n",
              "            <td>None</td>\n",
              "        </tr>\n",
              "        <tr>\n",
              "            <td>7</td>\n",
              "            <td>691</td>\n",
              "            <td>a10ffa1d97f790266506f3294469ac3e8eee787eb7f9b5817e1569850555179ffb7de36147a7370f3992e6c3b495fae830ea11671380c31e3cf5418631d656cf</td>\n",
              "            <td>HY398246</td>\n",
              "            <td>08/26/2015 05:00:00 AM</td>\n",
              "            <td>2</td>\n",
              "            <td>PARKED</td>\n",
              "            <td>None</td>\n",
              "            <td>660.0</td>\n",
              "            <td>None</td>\n",
              "            <td>DODGE</td>\n",
              "            <td>CHARGER</td>\n",
              "            <td>IL</td>\n",
              "            <td>2012.0</td>\n",
              "            <td>NONE</td>\n",
              "            <td>PASSENGER</td>\n",
              "            <td>NOT IN USE</td>\n",
              "            <td>W</td>\n",
              "            <td>PARKED</td>\n",
              "            <td>None</td>\n",
              "            <td>None</td>\n",
              "            <td>0.0</td>\n",
              "            <td>None</td>\n",
              "            <td>None</td>\n",
              "            <td>None</td>\n",
              "            <td>None</td>\n",
              "            <td>Y</td>\n",
              "            <td>None</td>\n",
              "            <td>None</td>\n",
              "            <td>None</td>\n",
              "            <td>None</td>\n",
              "            <td>None</td>\n",
              "            <td>None</td>\n",
              "            <td>None</td>\n",
              "            <td>None</td>\n",
              "            <td>None</td>\n",
              "            <td>None</td>\n",
              "            <td>None</td>\n",
              "            <td>None</td>\n",
              "            <td>FRONT</td>\n",
              "            <td>None</td>\n",
              "            <td>None</td>\n",
              "            <td>None</td>\n",
              "            <td>None</td>\n",
              "            <td>None</td>\n",
              "            <td>None</td>\n",
              "            <td>None</td>\n",
              "            <td>None</td>\n",
              "            <td>None</td>\n",
              "            <td>None</td>\n",
              "            <td>None</td>\n",
              "            <td>None</td>\n",
              "            <td>None</td>\n",
              "            <td>None</td>\n",
              "            <td>None</td>\n",
              "            <td>None</td>\n",
              "            <td>None</td>\n",
              "            <td>None</td>\n",
              "            <td>None</td>\n",
              "            <td>None</td>\n",
              "            <td>None</td>\n",
              "            <td>None</td>\n",
              "            <td>None</td>\n",
              "            <td>None</td>\n",
              "            <td>None</td>\n",
              "            <td>None</td>\n",
              "            <td>None</td>\n",
              "            <td>None</td>\n",
              "            <td>None</td>\n",
              "            <td>None</td>\n",
              "            <td>None</td>\n",
              "            <td>None</td>\n",
              "            <td>None</td>\n",
              "        </tr>\n",
              "        <tr>\n",
              "            <td>8</td>\n",
              "            <td>719</td>\n",
              "            <td>222125199d9439a5a52603f49b97cf60079277ee4d2ff458aeaea1ec21054c7a0289c514a176b62370c89d3307251632e0d587246c30a3771c4cf4efa91bae35</td>\n",
              "            <td>HY399668</td>\n",
              "            <td>08/27/2015 03:10:00 PM</td>\n",
              "            <td>2</td>\n",
              "            <td>DRIVER</td>\n",
              "            <td>None</td>\n",
              "            <td>686.0</td>\n",
              "            <td>None</td>\n",
              "            <td>NISSAN</td>\n",
              "            <td>NISSAN ALTIMA</td>\n",
              "            <td>IL</td>\n",
              "            <td>2013.0</td>\n",
              "            <td>UNKNOWN</td>\n",
              "            <td>PASSENGER</td>\n",
              "            <td>PERSONAL</td>\n",
              "            <td>W</td>\n",
              "            <td>SLOW/STOP IN TRAFFIC</td>\n",
              "            <td>None</td>\n",
              "            <td>None</td>\n",
              "            <td>1.0</td>\n",
              "            <td>None</td>\n",
              "            <td>None</td>\n",
              "            <td>None</td>\n",
              "            <td>None</td>\n",
              "            <td>None</td>\n",
              "            <td>None</td>\n",
              "            <td>None</td>\n",
              "            <td>None</td>\n",
              "            <td>None</td>\n",
              "            <td>None</td>\n",
              "            <td>None</td>\n",
              "            <td>Y</td>\n",
              "            <td>None</td>\n",
              "            <td>None</td>\n",
              "            <td>None</td>\n",
              "            <td>None</td>\n",
              "            <td>None</td>\n",
              "            <td>FRONT-RIGHT</td>\n",
              "            <td>None</td>\n",
              "            <td>None</td>\n",
              "            <td>None</td>\n",
              "            <td>None</td>\n",
              "            <td>None</td>\n",
              "            <td>None</td>\n",
              "            <td>None</td>\n",
              "            <td>None</td>\n",
              "            <td>None</td>\n",
              "            <td>None</td>\n",
              "            <td>None</td>\n",
              "            <td>None</td>\n",
              "            <td>None</td>\n",
              "            <td>None</td>\n",
              "            <td>None</td>\n",
              "            <td>None</td>\n",
              "            <td>None</td>\n",
              "            <td>None</td>\n",
              "            <td>None</td>\n",
              "            <td>None</td>\n",
              "            <td>None</td>\n",
              "            <td>None</td>\n",
              "            <td>None</td>\n",
              "            <td>None</td>\n",
              "            <td>None</td>\n",
              "            <td>None</td>\n",
              "            <td>None</td>\n",
              "            <td>None</td>\n",
              "            <td>None</td>\n",
              "            <td>None</td>\n",
              "            <td>None</td>\n",
              "            <td>None</td>\n",
              "            <td>None</td>\n",
              "        </tr>\n",
              "        <tr>\n",
              "            <td>9</td>\n",
              "            <td>1203</td>\n",
              "            <td>11d5a650500c98b7e613637d4f9a04c74776d4658431bc9380b435b8c4235adca6b73bf174caf79a3237f6a9a981d1d3ffe4682429ce81844a2ec5e8c16323db</td>\n",
              "            <td>HY410761</td>\n",
              "            <td>09/04/2015 08:27:00 PM</td>\n",
              "            <td>2</td>\n",
              "            <td>DRIVER</td>\n",
              "            <td>None</td>\n",
              "            <td>1147.0</td>\n",
              "            <td>None</td>\n",
              "            <td>JEEP</td>\n",
              "            <td>UNKNOWN</td>\n",
              "            <td>IL</td>\n",
              "            <td>2014.0</td>\n",
              "            <td>NONE</td>\n",
              "            <td>SPORT UTILITY VEHICLE (SUV)</td>\n",
              "            <td>PERSONAL</td>\n",
              "            <td>W</td>\n",
              "            <td>STRAIGHT AHEAD</td>\n",
              "            <td>None</td>\n",
              "            <td>None</td>\n",
              "            <td>1.0</td>\n",
              "            <td>None</td>\n",
              "            <td>None</td>\n",
              "            <td>None</td>\n",
              "            <td>None</td>\n",
              "            <td>None</td>\n",
              "            <td>None</td>\n",
              "            <td>None</td>\n",
              "            <td>None</td>\n",
              "            <td>Y</td>\n",
              "            <td>Y</td>\n",
              "            <td>None</td>\n",
              "            <td>None</td>\n",
              "            <td>None</td>\n",
              "            <td>None</td>\n",
              "            <td>Y</td>\n",
              "            <td>None</td>\n",
              "            <td>None</td>\n",
              "            <td>TOTAL (ALL AREAS)</td>\n",
              "            <td>None</td>\n",
              "            <td>None</td>\n",
              "            <td>None</td>\n",
              "            <td>None</td>\n",
              "            <td>None</td>\n",
              "            <td>None</td>\n",
              "            <td>None</td>\n",
              "            <td>None</td>\n",
              "            <td>None</td>\n",
              "            <td>None</td>\n",
              "            <td>None</td>\n",
              "            <td>None</td>\n",
              "            <td>None</td>\n",
              "            <td>None</td>\n",
              "            <td>None</td>\n",
              "            <td>None</td>\n",
              "            <td>None</td>\n",
              "            <td>None</td>\n",
              "            <td>None</td>\n",
              "            <td>None</td>\n",
              "            <td>None</td>\n",
              "            <td>None</td>\n",
              "            <td>None</td>\n",
              "            <td>None</td>\n",
              "            <td>None</td>\n",
              "            <td>None</td>\n",
              "            <td>None</td>\n",
              "            <td>None</td>\n",
              "            <td>None</td>\n",
              "            <td>None</td>\n",
              "            <td>None</td>\n",
              "            <td>None</td>\n",
              "            <td>None</td>\n",
              "        </tr>\n",
              "    </tbody>\n",
              "</table>"
            ]
          },
          "metadata": {},
          "execution_count": 6
        }
      ]
    },
    {
      "cell_type": "markdown",
      "source": [
        "## Data analysis"
      ],
      "metadata": {
        "id": "k2koCD_wO3x4"
      }
    },
    {
      "cell_type": "markdown",
      "source": [
        "**Question 1:** Display a list of 5 makes that had the highest number of crashes"
      ],
      "metadata": {
        "id": "Xk_tcP2HPXHu"
      }
    },
    {
      "cell_type": "code",
      "source": [
        "%%sql\n",
        "SELECT MAKE, count(*) as num_crashes FROM `traffic_accidents`  GROUP BY MAKE ORDER BY num_crashes DESC LIMIT 5"
      ],
      "metadata": {
        "colab": {
          "base_uri": "https://localhost:8080/",
          "height": 182
        },
        "id": "U-wxYc3JU_-M",
        "outputId": "33728a70-4a06-4419-8f98-87ab395ae270"
      },
      "execution_count": 8,
      "outputs": [
        {
          "output_type": "stream",
          "name": "stdout",
          "text": [
            " * sqlite://\n",
            "Done.\n"
          ]
        },
        {
          "output_type": "execute_result",
          "data": {
            "text/plain": [
              "[('CHEVROLET', 726),\n",
              " ('FORD', 658),\n",
              " ('NISSAN', 585),\n",
              " ('TOYOTA MOTOR COMPANY, LTD.', 494),\n",
              " ('HONDA', 403)]"
            ],
            "text/html": [
              "<table>\n",
              "    <thead>\n",
              "        <tr>\n",
              "            <th>MAKE</th>\n",
              "            <th>num_crashes</th>\n",
              "        </tr>\n",
              "    </thead>\n",
              "    <tbody>\n",
              "        <tr>\n",
              "            <td>CHEVROLET</td>\n",
              "            <td>726</td>\n",
              "        </tr>\n",
              "        <tr>\n",
              "            <td>FORD</td>\n",
              "            <td>658</td>\n",
              "        </tr>\n",
              "        <tr>\n",
              "            <td>NISSAN</td>\n",
              "            <td>585</td>\n",
              "        </tr>\n",
              "        <tr>\n",
              "            <td>TOYOTA MOTOR COMPANY, LTD.</td>\n",
              "            <td>494</td>\n",
              "        </tr>\n",
              "        <tr>\n",
              "            <td>HONDA</td>\n",
              "            <td>403</td>\n",
              "        </tr>\n",
              "    </tbody>\n",
              "</table>"
            ]
          },
          "metadata": {},
          "execution_count": 8
        }
      ]
    },
    {
      "cell_type": "markdown",
      "source": [
        "**Question 2:** Most personal vehicles involved in crashes were traveling towards which direction?"
      ],
      "metadata": {
        "id": "w_I0YlOwPd-6"
      }
    },
    {
      "cell_type": "code",
      "source": [
        "%%sql\n",
        "SELECT TRAVEL_DIRECTION, count(*) as num_vehicles FROM `traffic_accidents` WHERE VEHICLE_USE = 'PERSONAL'  GROUP BY TRAVEL_DIRECTION ORDER BY num_vehicles DESC "
      ],
      "metadata": {
        "colab": {
          "base_uri": "https://localhost:8080/",
          "height": 267
        },
        "id": "oZbs3hC1W1Xj",
        "outputId": "2f50d19b-81c9-44b3-ec4b-6913d97985f4"
      },
      "execution_count": 27,
      "outputs": [
        {
          "output_type": "stream",
          "name": "stdout",
          "text": [
            " * sqlite://\n",
            "Done.\n"
          ]
        },
        {
          "output_type": "execute_result",
          "data": {
            "text/plain": [
              "[('N', 960),\n",
              " ('S', 932),\n",
              " ('E', 854),\n",
              " ('W', 847),\n",
              " ('UNKNOWN', 149),\n",
              " ('SE', 65),\n",
              " ('NW', 63),\n",
              " ('SW', 39),\n",
              " ('NE', 32)]"
            ],
            "text/html": [
              "<table>\n",
              "    <thead>\n",
              "        <tr>\n",
              "            <th>TRAVEL_DIRECTION</th>\n",
              "            <th>num_vehicles</th>\n",
              "        </tr>\n",
              "    </thead>\n",
              "    <tbody>\n",
              "        <tr>\n",
              "            <td>N</td>\n",
              "            <td>960</td>\n",
              "        </tr>\n",
              "        <tr>\n",
              "            <td>S</td>\n",
              "            <td>932</td>\n",
              "        </tr>\n",
              "        <tr>\n",
              "            <td>E</td>\n",
              "            <td>854</td>\n",
              "        </tr>\n",
              "        <tr>\n",
              "            <td>W</td>\n",
              "            <td>847</td>\n",
              "        </tr>\n",
              "        <tr>\n",
              "            <td>UNKNOWN</td>\n",
              "            <td>149</td>\n",
              "        </tr>\n",
              "        <tr>\n",
              "            <td>SE</td>\n",
              "            <td>65</td>\n",
              "        </tr>\n",
              "        <tr>\n",
              "            <td>NW</td>\n",
              "            <td>63</td>\n",
              "        </tr>\n",
              "        <tr>\n",
              "            <td>SW</td>\n",
              "            <td>39</td>\n",
              "        </tr>\n",
              "        <tr>\n",
              "            <td>NE</td>\n",
              "            <td>32</td>\n",
              "        </tr>\n",
              "    </tbody>\n",
              "</table>"
            ]
          },
          "metadata": {},
          "execution_count": 27
        }
      ]
    },
    {
      "cell_type": "markdown",
      "source": [
        "Observation: \n",
        "> Most of the personal vehicles invoved in crashes were travelling towards North"
      ],
      "metadata": {
        "id": "pE0EQ6SEYlpD"
      }
    },
    {
      "cell_type": "markdown",
      "source": [
        "**Question 3:** How many passengers were involved in personal cars were in accidents?"
      ],
      "metadata": {
        "id": "LXzc_GgFPeKV"
      }
    },
    {
      "cell_type": "code",
      "source": [
        "%%sql\n",
        "SELECT sum(NUM_PASSENGERS) as num_of_passengers FROM `traffic_accidents` WHERE VEHICLE_USE = 'PERSONAL' "
      ],
      "metadata": {
        "colab": {
          "base_uri": "https://localhost:8080/",
          "height": 97
        },
        "id": "CzuoZIw9ZRAK",
        "outputId": "04c75fc9-6e30-495b-c944-5ddb3c32517d"
      },
      "execution_count": 13,
      "outputs": [
        {
          "output_type": "stream",
          "name": "stdout",
          "text": [
            " * sqlite://\n",
            "Done.\n"
          ]
        },
        {
          "output_type": "execute_result",
          "data": {
            "text/plain": [
              "[(1016.0,)]"
            ],
            "text/html": [
              "<table>\n",
              "    <thead>\n",
              "        <tr>\n",
              "            <th>num_of_passengers</th>\n",
              "        </tr>\n",
              "    </thead>\n",
              "    <tbody>\n",
              "        <tr>\n",
              "            <td>1016.0</td>\n",
              "        </tr>\n",
              "    </tbody>\n",
              "</table>"
            ]
          },
          "metadata": {},
          "execution_count": 13
        }
      ]
    },
    {
      "cell_type": "markdown",
      "source": [
        "**Question 4:** How many passengers were involved in accidents while traveling in personal Sport Utility vehicles?"
      ],
      "metadata": {
        "id": "rOLYacNgPeQy"
      }
    },
    {
      "cell_type": "code",
      "source": [
        "%%sql\n",
        "SELECT sum(NUM_PASSENGERS) as num_of_passengers FROM `traffic_accidents` WHERE VEHICLE_TYPE = 'SPORT UTILITY VEHICLE (SUV)' "
      ],
      "metadata": {
        "colab": {
          "base_uri": "https://localhost:8080/",
          "height": 97
        },
        "id": "U_ykITzyZ_63",
        "outputId": "943a2b25-aaf9-4159-9eec-22cd4fc9ddd3"
      },
      "execution_count": 14,
      "outputs": [
        {
          "output_type": "stream",
          "name": "stdout",
          "text": [
            " * sqlite://\n",
            "Done.\n"
          ]
        },
        {
          "output_type": "execute_result",
          "data": {
            "text/plain": [
              "[(236.0,)]"
            ],
            "text/html": [
              "<table>\n",
              "    <thead>\n",
              "        <tr>\n",
              "            <th>num_of_passengers</th>\n",
              "        </tr>\n",
              "    </thead>\n",
              "    <tbody>\n",
              "        <tr>\n",
              "            <td>236.0</td>\n",
              "        </tr>\n",
              "    </tbody>\n",
              "</table>"
            ]
          },
          "metadata": {},
          "execution_count": 14
        }
      ]
    },
    {
      "cell_type": "markdown",
      "source": [
        "**Question 5:** Compute the total number of Mercedez-Benz vehicles involved in accidents while being parked?"
      ],
      "metadata": {
        "id": "zKKLzuZ6PeT8"
      }
    },
    {
      "cell_type": "code",
      "source": [
        "%%sql\n",
        "SELECT count(*) as total FROM `traffic_accidents` WHERE MAKE = 'MERCEDES-BENZ' AND UNIT_TYPE = 'PARKED' "
      ],
      "metadata": {
        "colab": {
          "base_uri": "https://localhost:8080/",
          "height": 97
        },
        "id": "rt_FB2EgajA7",
        "outputId": "1205a7ed-eef9-459e-ef97-2ebf7f8a98be"
      },
      "execution_count": 18,
      "outputs": [
        {
          "output_type": "stream",
          "name": "stdout",
          "text": [
            " * sqlite://\n",
            "Done.\n"
          ]
        },
        {
          "output_type": "execute_result",
          "data": {
            "text/plain": [
              "[(20,)]"
            ],
            "text/html": [
              "<table>\n",
              "    <thead>\n",
              "        <tr>\n",
              "            <th>total</th>\n",
              "        </tr>\n",
              "    </thead>\n",
              "    <tbody>\n",
              "        <tr>\n",
              "            <td>20</td>\n",
              "        </tr>\n",
              "    </tbody>\n",
              "</table>"
            ]
          },
          "metadata": {},
          "execution_count": 18
        }
      ]
    },
    {
      "cell_type": "markdown",
      "source": [
        "**Question 6:** Compute the total occupant count per vehicle type"
      ],
      "metadata": {
        "id": "vpeDUGUrPeb9"
      }
    },
    {
      "cell_type": "code",
      "source": [
        "%%sql\n",
        "SELECT VEHICLE_TYPE, sum(OCCUPANT_CNT) as total FROM `traffic_accidents`  GROUP BY VEHICLE_TYPE ORDER BY total DESC"
      ],
      "metadata": {
        "colab": {
          "base_uri": "https://localhost:8080/",
          "height": 459
        },
        "id": "BEqQ3GZDcXoo",
        "outputId": "fe5eb0a3-16de-4e91-87d4-2a6212603d3e"
      },
      "execution_count": 24,
      "outputs": [
        {
          "output_type": "stream",
          "name": "stdout",
          "text": [
            " * sqlite://\n",
            "Done.\n"
          ]
        },
        {
          "output_type": "execute_result",
          "data": {
            "text/plain": [
              "[('PASSENGER', 4150.0),\n",
              " ('SPORT UTILITY VEHICLE (SUV)', 926.0),\n",
              " ('VAN/MINI-VAN', 299.0),\n",
              " ('PICKUP', 148.0),\n",
              " ('UNKNOWN/NA', 123.0),\n",
              " ('BUS OVER 15 PASS.', 111.0),\n",
              " ('TRUCK - SINGLE UNIT', 96.0),\n",
              " ('OTHER', 76.0),\n",
              " ('TRACTOR W/ SEMI-TRAILER', 55.0),\n",
              " ('BUS UP TO 15 PASS.', 24.0),\n",
              " ('MOTORCYCLE (OVER 150CC)', 14.0),\n",
              " ('OTHER VEHICLE WITH TRAILER', 8.0),\n",
              " ('SINGLE UNIT TRUCK WITH TRAILER', 5.0),\n",
              " ('TRACTOR W/O SEMI-TRAILER', 4.0),\n",
              " ('ALL-TERRAIN VEHICLE (ATV)', 1.0),\n",
              " ('AUTOCYCLE', 1.0),\n",
              " ('MOPED OR MOTORIZED BICYCLE', 1.0),\n",
              " ('MOTOR DRIVEN CYCLE', 1.0)]"
            ],
            "text/html": [
              "<table>\n",
              "    <thead>\n",
              "        <tr>\n",
              "            <th>VEHICLE_TYPE</th>\n",
              "            <th>total</th>\n",
              "        </tr>\n",
              "    </thead>\n",
              "    <tbody>\n",
              "        <tr>\n",
              "            <td>PASSENGER</td>\n",
              "            <td>4150.0</td>\n",
              "        </tr>\n",
              "        <tr>\n",
              "            <td>SPORT UTILITY VEHICLE (SUV)</td>\n",
              "            <td>926.0</td>\n",
              "        </tr>\n",
              "        <tr>\n",
              "            <td>VAN/MINI-VAN</td>\n",
              "            <td>299.0</td>\n",
              "        </tr>\n",
              "        <tr>\n",
              "            <td>PICKUP</td>\n",
              "            <td>148.0</td>\n",
              "        </tr>\n",
              "        <tr>\n",
              "            <td>UNKNOWN/NA</td>\n",
              "            <td>123.0</td>\n",
              "        </tr>\n",
              "        <tr>\n",
              "            <td>BUS OVER 15 PASS.</td>\n",
              "            <td>111.0</td>\n",
              "        </tr>\n",
              "        <tr>\n",
              "            <td>TRUCK - SINGLE UNIT</td>\n",
              "            <td>96.0</td>\n",
              "        </tr>\n",
              "        <tr>\n",
              "            <td>OTHER</td>\n",
              "            <td>76.0</td>\n",
              "        </tr>\n",
              "        <tr>\n",
              "            <td>TRACTOR W/ SEMI-TRAILER</td>\n",
              "            <td>55.0</td>\n",
              "        </tr>\n",
              "        <tr>\n",
              "            <td>BUS UP TO 15 PASS.</td>\n",
              "            <td>24.0</td>\n",
              "        </tr>\n",
              "        <tr>\n",
              "            <td>MOTORCYCLE (OVER 150CC)</td>\n",
              "            <td>14.0</td>\n",
              "        </tr>\n",
              "        <tr>\n",
              "            <td>OTHER VEHICLE WITH TRAILER</td>\n",
              "            <td>8.0</td>\n",
              "        </tr>\n",
              "        <tr>\n",
              "            <td>SINGLE UNIT TRUCK WITH TRAILER</td>\n",
              "            <td>5.0</td>\n",
              "        </tr>\n",
              "        <tr>\n",
              "            <td>TRACTOR W/O SEMI-TRAILER</td>\n",
              "            <td>4.0</td>\n",
              "        </tr>\n",
              "        <tr>\n",
              "            <td>ALL-TERRAIN VEHICLE (ATV)</td>\n",
              "            <td>1.0</td>\n",
              "        </tr>\n",
              "        <tr>\n",
              "            <td>AUTOCYCLE</td>\n",
              "            <td>1.0</td>\n",
              "        </tr>\n",
              "        <tr>\n",
              "            <td>MOPED OR MOTORIZED BICYCLE</td>\n",
              "            <td>1.0</td>\n",
              "        </tr>\n",
              "        <tr>\n",
              "            <td>MOTOR DRIVEN CYCLE</td>\n",
              "            <td>1.0</td>\n",
              "        </tr>\n",
              "    </tbody>\n",
              "</table>"
            ]
          },
          "metadata": {},
          "execution_count": 24
        }
      ]
    },
    {
      "cell_type": "markdown",
      "source": [
        "**Question 7:** Sort the number of passengers in descending order by travel direction taking into account travel direction. Return travel direction and no. of passengers."
      ],
      "metadata": {
        "id": "iyNSjqfhPee_"
      }
    },
    {
      "cell_type": "code",
      "source": [
        "%%sql\n",
        "SELECT TRAVEL_DIRECTION, sum(NUM_PASSENGERS) as num_of_passengers FROM `traffic_accidents` GROUP BY TRAVEL_DIRECTION ORDER BY num_of_passengers DESC "
      ],
      "metadata": {
        "colab": {
          "base_uri": "https://localhost:8080/",
          "height": 267
        },
        "id": "V5iFy7e9eDYt",
        "outputId": "fc9ca4b2-f9ed-4b37-f897-32f7f6016cae"
      },
      "execution_count": 25,
      "outputs": [
        {
          "output_type": "stream",
          "name": "stdout",
          "text": [
            " * sqlite://\n",
            "Done.\n"
          ]
        },
        {
          "output_type": "execute_result",
          "data": {
            "text/plain": [
              "[('N', 371.0),\n",
              " ('S', 331.0),\n",
              " ('E', 305.0),\n",
              " ('W', 285.0),\n",
              " ('UNKNOWN', 35.0),\n",
              " ('NW', 28.0),\n",
              " ('SE', 20.0),\n",
              " ('NE', 18.0),\n",
              " ('SW', 10.0)]"
            ],
            "text/html": [
              "<table>\n",
              "    <thead>\n",
              "        <tr>\n",
              "            <th>TRAVEL_DIRECTION</th>\n",
              "            <th>num_of_passengers</th>\n",
              "        </tr>\n",
              "    </thead>\n",
              "    <tbody>\n",
              "        <tr>\n",
              "            <td>N</td>\n",
              "            <td>371.0</td>\n",
              "        </tr>\n",
              "        <tr>\n",
              "            <td>S</td>\n",
              "            <td>331.0</td>\n",
              "        </tr>\n",
              "        <tr>\n",
              "            <td>E</td>\n",
              "            <td>305.0</td>\n",
              "        </tr>\n",
              "        <tr>\n",
              "            <td>W</td>\n",
              "            <td>285.0</td>\n",
              "        </tr>\n",
              "        <tr>\n",
              "            <td>UNKNOWN</td>\n",
              "            <td>35.0</td>\n",
              "        </tr>\n",
              "        <tr>\n",
              "            <td>NW</td>\n",
              "            <td>28.0</td>\n",
              "        </tr>\n",
              "        <tr>\n",
              "            <td>SE</td>\n",
              "            <td>20.0</td>\n",
              "        </tr>\n",
              "        <tr>\n",
              "            <td>NE</td>\n",
              "            <td>18.0</td>\n",
              "        </tr>\n",
              "        <tr>\n",
              "            <td>SW</td>\n",
              "            <td>10.0</td>\n",
              "        </tr>\n",
              "    </tbody>\n",
              "</table>"
            ]
          },
          "metadata": {},
          "execution_count": 25
        }
      ]
    },
    {
      "cell_type": "markdown",
      "source": [
        "**Question 8:** Select the top 5 vehicle models involved in the accident with no defect, order them by make, and show their maneuver."
      ],
      "metadata": {
        "id": "ZPGJlLa8dhvI"
      }
    },
    {
      "cell_type": "code",
      "source": [
        "%%sql\n",
        "SELECT MODEL, MANEUVER FROM `traffic_accidents` WHERE VEHICLE_DEFECT = 'NONE' ORDER BY MAKE LIMIT 5;"
      ],
      "metadata": {
        "colab": {
          "base_uri": "https://localhost:8080/",
          "height": 182
        },
        "id": "UxrJ3-1dexrz",
        "outputId": "203fba83-2bec-423d-dabb-d1a0f4d91e13"
      },
      "execution_count": 46,
      "outputs": [
        {
          "output_type": "stream",
          "name": "stdout",
          "text": [
            " * sqlite://\n",
            "Done.\n"
          ]
        },
        {
          "output_type": "execute_result",
          "data": {
            "text/plain": [
              "[('\"ALLISON\\'S FIBERGLASS MFG., INC (PORT ORANGE., FLORIDA).\"', 'TURNING LEFT'),\n",
              " ('\"CLASSIC MOTOR CARRIAGES, INC. (HALLANDALE, FLORIDA)\"', 'PASSING/OVERTAKING'),\n",
              " ('ACURA', 'STRAIGHT AHEAD'),\n",
              " ('ACURA', 'STARTING IN TRAFFIC'),\n",
              " ('ACURA', 'STRAIGHT AHEAD')]"
            ],
            "text/html": [
              "<table>\n",
              "    <thead>\n",
              "        <tr>\n",
              "            <th>MODEL</th>\n",
              "            <th>MANEUVER</th>\n",
              "        </tr>\n",
              "    </thead>\n",
              "    <tbody>\n",
              "        <tr>\n",
              "            <td>&quot;ALLISON&#x27;S FIBERGLASS MFG., INC (PORT ORANGE., FLORIDA).&quot;</td>\n",
              "            <td>TURNING LEFT</td>\n",
              "        </tr>\n",
              "        <tr>\n",
              "            <td>&quot;CLASSIC MOTOR CARRIAGES, INC. (HALLANDALE, FLORIDA)&quot;</td>\n",
              "            <td>PASSING/OVERTAKING</td>\n",
              "        </tr>\n",
              "        <tr>\n",
              "            <td>ACURA</td>\n",
              "            <td>STRAIGHT AHEAD</td>\n",
              "        </tr>\n",
              "        <tr>\n",
              "            <td>ACURA</td>\n",
              "            <td>STARTING IN TRAFFIC</td>\n",
              "        </tr>\n",
              "        <tr>\n",
              "            <td>ACURA</td>\n",
              "            <td>STRAIGHT AHEAD</td>\n",
              "        </tr>\n",
              "    </tbody>\n",
              "</table>"
            ]
          },
          "metadata": {},
          "execution_count": 46
        }
      ]
    },
    {
      "cell_type": "markdown",
      "source": [
        "**Question 9:** Which ridesharing vehicles in an accident had the most number of passengers? Return model, and the number of passengers"
      ],
      "metadata": {
        "id": "JPJPXzP_dkOA"
      }
    },
    {
      "cell_type": "code",
      "source": [
        "%%sql\n",
        "SELECT MODEL, sum(NUM_PASSENGERS) as NUM_OF_PASSENGERS FROM `traffic_accidents` WHERE VEHICLE_USE = 'RIDESHARE SERVICE' GROUP BY MODEL ORDER BY NUM_OF_PASSENGERS DESC"
      ],
      "metadata": {
        "colab": {
          "base_uri": "https://localhost:8080/",
          "height": 823
        },
        "id": "w89xH5pvhf-n",
        "outputId": "d237ee13-c38e-4f62-9115-7d6bca94d6af"
      },
      "execution_count": 43,
      "outputs": [
        {
          "output_type": "stream",
          "name": "stdout",
          "text": [
            " * sqlite://\n",
            "Done.\n"
          ]
        },
        {
          "output_type": "execute_result",
          "data": {
            "text/plain": [
              "[('CAMRY', 5.0),\n",
              " ('UNKNOWN', 5.0),\n",
              " ('JETTA', 4.0),\n",
              " ('COROLLA', 3.0),\n",
              " ('A4', 2.0),\n",
              " ('MALIBU (CHEVELLE)', 2.0),\n",
              " ('ACURA', 1.0),\n",
              " ('CX-9', 1.0),\n",
              " ('ELANTRA', 1.0),\n",
              " ('FLEX', 1.0),\n",
              " ('MKS', 1.0),\n",
              " ('OTHER (EXPLAIN IN NARRATIVE)', 1.0),\n",
              " ('PATRIOT', 1.0),\n",
              " ('SOUL', 1.0),\n",
              " ('Trail Blazer', 1.0),\n",
              " ('VERSA', 1.0),\n",
              " ('328i', None),\n",
              " ('ALTIMA', None),\n",
              " ('CX-3', None),\n",
              " ('EQUINOX', None),\n",
              " ('ESCAPE (SUV)', None),\n",
              " ('FOCUS', None),\n",
              " ('FUSION', None),\n",
              " ('Highlander(beginning vehicle year 2001)', None),\n",
              " ('LINCOLN PARK MOBILE HOMES, INC., SHIPSHEWNAN, IN', None),\n",
              " ('MDX', None),\n",
              " ('NISSAN ALTIMA', None),\n",
              " ('OPTIMA / K5', None),\n",
              " ('PASSAT', None),\n",
              " ('Prius', None),\n",
              " ('RANGE ROVER OF NORTH AMERICA', None),\n",
              " ('SE-V6', None),\n",
              " ('SENTRA (DATSUN AND NISSAN HAVE MERGED)', None),\n",
              " ('SONATA', None),\n",
              " ('Sportage (sport utility)', None)]"
            ],
            "text/html": [
              "<table>\n",
              "    <thead>\n",
              "        <tr>\n",
              "            <th>MODEL</th>\n",
              "            <th>NUM_OF_PASSENGERS</th>\n",
              "        </tr>\n",
              "    </thead>\n",
              "    <tbody>\n",
              "        <tr>\n",
              "            <td>CAMRY</td>\n",
              "            <td>5.0</td>\n",
              "        </tr>\n",
              "        <tr>\n",
              "            <td>UNKNOWN</td>\n",
              "            <td>5.0</td>\n",
              "        </tr>\n",
              "        <tr>\n",
              "            <td>JETTA</td>\n",
              "            <td>4.0</td>\n",
              "        </tr>\n",
              "        <tr>\n",
              "            <td>COROLLA</td>\n",
              "            <td>3.0</td>\n",
              "        </tr>\n",
              "        <tr>\n",
              "            <td>A4</td>\n",
              "            <td>2.0</td>\n",
              "        </tr>\n",
              "        <tr>\n",
              "            <td>MALIBU (CHEVELLE)</td>\n",
              "            <td>2.0</td>\n",
              "        </tr>\n",
              "        <tr>\n",
              "            <td>ACURA</td>\n",
              "            <td>1.0</td>\n",
              "        </tr>\n",
              "        <tr>\n",
              "            <td>CX-9</td>\n",
              "            <td>1.0</td>\n",
              "        </tr>\n",
              "        <tr>\n",
              "            <td>ELANTRA</td>\n",
              "            <td>1.0</td>\n",
              "        </tr>\n",
              "        <tr>\n",
              "            <td>FLEX</td>\n",
              "            <td>1.0</td>\n",
              "        </tr>\n",
              "        <tr>\n",
              "            <td>MKS</td>\n",
              "            <td>1.0</td>\n",
              "        </tr>\n",
              "        <tr>\n",
              "            <td>OTHER (EXPLAIN IN NARRATIVE)</td>\n",
              "            <td>1.0</td>\n",
              "        </tr>\n",
              "        <tr>\n",
              "            <td>PATRIOT</td>\n",
              "            <td>1.0</td>\n",
              "        </tr>\n",
              "        <tr>\n",
              "            <td>SOUL</td>\n",
              "            <td>1.0</td>\n",
              "        </tr>\n",
              "        <tr>\n",
              "            <td>Trail Blazer</td>\n",
              "            <td>1.0</td>\n",
              "        </tr>\n",
              "        <tr>\n",
              "            <td>VERSA</td>\n",
              "            <td>1.0</td>\n",
              "        </tr>\n",
              "        <tr>\n",
              "            <td>328i</td>\n",
              "            <td>None</td>\n",
              "        </tr>\n",
              "        <tr>\n",
              "            <td>ALTIMA</td>\n",
              "            <td>None</td>\n",
              "        </tr>\n",
              "        <tr>\n",
              "            <td>CX-3</td>\n",
              "            <td>None</td>\n",
              "        </tr>\n",
              "        <tr>\n",
              "            <td>EQUINOX</td>\n",
              "            <td>None</td>\n",
              "        </tr>\n",
              "        <tr>\n",
              "            <td>ESCAPE (SUV)</td>\n",
              "            <td>None</td>\n",
              "        </tr>\n",
              "        <tr>\n",
              "            <td>FOCUS</td>\n",
              "            <td>None</td>\n",
              "        </tr>\n",
              "        <tr>\n",
              "            <td>FUSION</td>\n",
              "            <td>None</td>\n",
              "        </tr>\n",
              "        <tr>\n",
              "            <td>Highlander(beginning vehicle year 2001)</td>\n",
              "            <td>None</td>\n",
              "        </tr>\n",
              "        <tr>\n",
              "            <td>LINCOLN PARK MOBILE HOMES, INC., SHIPSHEWNAN, IN</td>\n",
              "            <td>None</td>\n",
              "        </tr>\n",
              "        <tr>\n",
              "            <td>MDX</td>\n",
              "            <td>None</td>\n",
              "        </tr>\n",
              "        <tr>\n",
              "            <td>NISSAN ALTIMA</td>\n",
              "            <td>None</td>\n",
              "        </tr>\n",
              "        <tr>\n",
              "            <td>OPTIMA / K5</td>\n",
              "            <td>None</td>\n",
              "        </tr>\n",
              "        <tr>\n",
              "            <td>PASSAT</td>\n",
              "            <td>None</td>\n",
              "        </tr>\n",
              "        <tr>\n",
              "            <td>Prius</td>\n",
              "            <td>None</td>\n",
              "        </tr>\n",
              "        <tr>\n",
              "            <td>RANGE ROVER OF NORTH AMERICA</td>\n",
              "            <td>None</td>\n",
              "        </tr>\n",
              "        <tr>\n",
              "            <td>SE-V6</td>\n",
              "            <td>None</td>\n",
              "        </tr>\n",
              "        <tr>\n",
              "            <td>SENTRA (DATSUN AND NISSAN HAVE MERGED)</td>\n",
              "            <td>None</td>\n",
              "        </tr>\n",
              "        <tr>\n",
              "            <td>SONATA</td>\n",
              "            <td>None</td>\n",
              "        </tr>\n",
              "        <tr>\n",
              "            <td>Sportage (sport utility)</td>\n",
              "            <td>None</td>\n",
              "        </tr>\n",
              "    </tbody>\n",
              "</table>"
            ]
          },
          "metadata": {},
          "execution_count": 43
        }
      ]
    },
    {
      "cell_type": "markdown",
      "source": [
        "Observation:\n",
        "> CAMRY rideshare vehicles had the most passengers"
      ],
      "metadata": {
        "id": "oKUu3a5cjV7D"
      }
    },
    {
      "cell_type": "markdown",
      "source": [
        "## Summary of findings"
      ],
      "metadata": {
        "id": "nNALu31vO7Y_"
      }
    },
    {
      "cell_type": "markdown",
      "source": [
        "From the analysis above, these are the findings"
      ],
      "metadata": {
        "id": "Ufo6g952lW0s"
      }
    },
    {
      "cell_type": "markdown",
      "source": [
        "1. CHEVROLET vehicles had the highest number of crashes\n",
        "2. Most personal vehicles were involved in accidents while travelling towards North\n",
        "3. 1,016 passengers were in personal cars when the cars got accidents\n",
        "4. Passengers travelling in Sport Utility vehicles totalled 236\n",
        "5. 20 Mercedez-Benz vehicles were involved in accidents while being parked\n",
        "6. PASSENGER vehicles had the most occupant count\n",
        "7. AMRY rideshare vehicles had the most passengers"
      ],
      "metadata": {
        "id": "e9Kd0rtQjrxX"
      }
    }
  ]
}